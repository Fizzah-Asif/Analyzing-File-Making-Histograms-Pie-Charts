{
 "cells": [
  {
   "cell_type": "code",
   "execution_count": 1,
   "id": "2ee70a33",
   "metadata": {},
   "outputs": [],
   "source": [
    "import pandas as pd"
   ]
  },
  {
   "cell_type": "code",
   "execution_count": 3,
   "id": "fe22abbf",
   "metadata": {},
   "outputs": [
    {
     "data": {
      "text/html": [
       "<div>\n",
       "<style scoped>\n",
       "    .dataframe tbody tr th:only-of-type {\n",
       "        vertical-align: middle;\n",
       "    }\n",
       "\n",
       "    .dataframe tbody tr th {\n",
       "        vertical-align: top;\n",
       "    }\n",
       "\n",
       "    .dataframe thead th {\n",
       "        text-align: right;\n",
       "    }\n",
       "</style>\n",
       "<table border=\"1\" class=\"dataframe\">\n",
       "  <thead>\n",
       "    <tr style=\"text-align: right;\">\n",
       "      <th></th>\n",
       "      <th>study_id</th>\n",
       "      <th>subtlety</th>\n",
       "      <th>size</th>\n",
       "      <th>age</th>\n",
       "      <th>gender</th>\n",
       "      <th>x</th>\n",
       "      <th>y</th>\n",
       "      <th>state</th>\n",
       "      <th>position</th>\n",
       "      <th>diagnosis</th>\n",
       "    </tr>\n",
       "  </thead>\n",
       "  <tbody>\n",
       "    <tr>\n",
       "      <th>0</th>\n",
       "      <td>JPCLN001.png</td>\n",
       "      <td>5.0</td>\n",
       "      <td>15.0</td>\n",
       "      <td>53</td>\n",
       "      <td>Male</td>\n",
       "      <td>1634.0</td>\n",
       "      <td>692.0</td>\n",
       "      <td>malignant</td>\n",
       "      <td>l.upper lobe</td>\n",
       "      <td>lung cancer</td>\n",
       "    </tr>\n",
       "    <tr>\n",
       "      <th>1</th>\n",
       "      <td>JPCLN002.png</td>\n",
       "      <td>5.0</td>\n",
       "      <td>30.0</td>\n",
       "      <td>78</td>\n",
       "      <td>Female</td>\n",
       "      <td>1614.0</td>\n",
       "      <td>1090.0</td>\n",
       "      <td>benign</td>\n",
       "      <td>l.upper lobe(S5)</td>\n",
       "      <td>pulmonary hematoma</td>\n",
       "    </tr>\n",
       "    <tr>\n",
       "      <th>2</th>\n",
       "      <td>JPCLN003.png</td>\n",
       "      <td>5.0</td>\n",
       "      <td>30.0</td>\n",
       "      <td>63</td>\n",
       "      <td>Female</td>\n",
       "      <td>1303.0</td>\n",
       "      <td>447.0</td>\n",
       "      <td>malignant</td>\n",
       "      <td>l.upper lobe(S1+2)</td>\n",
       "      <td>lung cancer</td>\n",
       "    </tr>\n",
       "    <tr>\n",
       "      <th>3</th>\n",
       "      <td>JPCLN004.png</td>\n",
       "      <td>5.0</td>\n",
       "      <td>14.0</td>\n",
       "      <td>68</td>\n",
       "      <td>Female</td>\n",
       "      <td>606.0</td>\n",
       "      <td>836.0</td>\n",
       "      <td>benign</td>\n",
       "      <td>r.upper lobe</td>\n",
       "      <td>Inflammatory mass</td>\n",
       "    </tr>\n",
       "    <tr>\n",
       "      <th>4</th>\n",
       "      <td>JPCLN005.png</td>\n",
       "      <td>5.0</td>\n",
       "      <td>35.0</td>\n",
       "      <td>73</td>\n",
       "      <td>Female</td>\n",
       "      <td>1438.0</td>\n",
       "      <td>692.0</td>\n",
       "      <td>malignant</td>\n",
       "      <td>l.upper lobe(S3)</td>\n",
       "      <td>lung cancer</td>\n",
       "    </tr>\n",
       "    <tr>\n",
       "      <th>...</th>\n",
       "      <td>...</td>\n",
       "      <td>...</td>\n",
       "      <td>...</td>\n",
       "      <td>...</td>\n",
       "      <td>...</td>\n",
       "      <td>...</td>\n",
       "      <td>...</td>\n",
       "      <td>...</td>\n",
       "      <td>...</td>\n",
       "      <td>...</td>\n",
       "    </tr>\n",
       "    <tr>\n",
       "      <th>242</th>\n",
       "      <td>JPCNN089.png</td>\n",
       "      <td>NaN</td>\n",
       "      <td>NaN</td>\n",
       "      <td>50</td>\n",
       "      <td>Male</td>\n",
       "      <td>NaN</td>\n",
       "      <td>NaN</td>\n",
       "      <td>non-nodule</td>\n",
       "      <td>NaN</td>\n",
       "      <td>NaN</td>\n",
       "    </tr>\n",
       "    <tr>\n",
       "      <th>243</th>\n",
       "      <td>JPCNN090.png</td>\n",
       "      <td>NaN</td>\n",
       "      <td>NaN</td>\n",
       "      <td>68</td>\n",
       "      <td>Female</td>\n",
       "      <td>NaN</td>\n",
       "      <td>NaN</td>\n",
       "      <td>non-nodule</td>\n",
       "      <td>NaN</td>\n",
       "      <td>NaN</td>\n",
       "    </tr>\n",
       "    <tr>\n",
       "      <th>244</th>\n",
       "      <td>JPCNN091.png</td>\n",
       "      <td>NaN</td>\n",
       "      <td>NaN</td>\n",
       "      <td>81</td>\n",
       "      <td>Male</td>\n",
       "      <td>NaN</td>\n",
       "      <td>NaN</td>\n",
       "      <td>non-nodule</td>\n",
       "      <td>NaN</td>\n",
       "      <td>NaN</td>\n",
       "    </tr>\n",
       "    <tr>\n",
       "      <th>245</th>\n",
       "      <td>JPCNN092.png</td>\n",
       "      <td>NaN</td>\n",
       "      <td>NaN</td>\n",
       "      <td>70</td>\n",
       "      <td>Female</td>\n",
       "      <td>NaN</td>\n",
       "      <td>NaN</td>\n",
       "      <td>non-nodule</td>\n",
       "      <td>NaN</td>\n",
       "      <td>NaN</td>\n",
       "    </tr>\n",
       "    <tr>\n",
       "      <th>246</th>\n",
       "      <td>JPCNN093.png</td>\n",
       "      <td>NaN</td>\n",
       "      <td>NaN</td>\n",
       "      <td>41</td>\n",
       "      <td>Male</td>\n",
       "      <td>NaN</td>\n",
       "      <td>NaN</td>\n",
       "      <td>non-nodule</td>\n",
       "      <td>NaN</td>\n",
       "      <td>NaN</td>\n",
       "    </tr>\n",
       "  </tbody>\n",
       "</table>\n",
       "<p>247 rows × 10 columns</p>\n",
       "</div>"
      ],
      "text/plain": [
       "         study_id  subtlety  size age  gender       x       y       state  \\\n",
       "0    JPCLN001.png       5.0  15.0  53    Male  1634.0   692.0   malignant   \n",
       "1    JPCLN002.png       5.0  30.0  78  Female  1614.0  1090.0      benign   \n",
       "2    JPCLN003.png       5.0  30.0  63  Female  1303.0   447.0   malignant   \n",
       "3    JPCLN004.png       5.0  14.0  68  Female   606.0   836.0      benign   \n",
       "4    JPCLN005.png       5.0  35.0  73  Female  1438.0   692.0   malignant   \n",
       "..            ...       ...   ...  ..     ...     ...     ...         ...   \n",
       "242  JPCNN089.png       NaN   NaN  50    Male     NaN     NaN  non-nodule   \n",
       "243  JPCNN090.png       NaN   NaN  68  Female     NaN     NaN  non-nodule   \n",
       "244  JPCNN091.png       NaN   NaN  81    Male     NaN     NaN  non-nodule   \n",
       "245  JPCNN092.png       NaN   NaN  70  Female     NaN     NaN  non-nodule   \n",
       "246  JPCNN093.png       NaN   NaN  41    Male     NaN     NaN  non-nodule   \n",
       "\n",
       "               position           diagnosis  \n",
       "0          l.upper lobe         lung cancer  \n",
       "1      l.upper lobe(S5)  pulmonary hematoma  \n",
       "2    l.upper lobe(S1+2)         lung cancer  \n",
       "3          r.upper lobe   Inflammatory mass  \n",
       "4      l.upper lobe(S3)         lung cancer  \n",
       "..                  ...                 ...  \n",
       "242                 NaN                 NaN  \n",
       "243                 NaN                 NaN  \n",
       "244                 NaN                 NaN  \n",
       "245                 NaN                 NaN  \n",
       "246                 NaN                 NaN  \n",
       "\n",
       "[247 rows x 10 columns]"
      ]
     },
     "execution_count": 3,
     "metadata": {},
     "output_type": "execute_result"
    }
   ],
   "source": [
    "df = pd.read_csv('jsrt_metadata.csv')\n",
    "df"
   ]
  },
  {
   "cell_type": "code",
   "execution_count": 44,
   "id": "85232bfe",
   "metadata": {},
   "outputs": [
    {
     "data": {
      "text/plain": [
       "0             lung cancer\n",
       "1      pulmonary hematoma\n",
       "2             lung cancer\n",
       "3       Inflammatory mass\n",
       "4             lung cancer\n",
       "              ...        \n",
       "242                   NaN\n",
       "243                   NaN\n",
       "244                   NaN\n",
       "245                   NaN\n",
       "246                   NaN\n",
       "Name: diagnosis, Length: 247, dtype: object"
      ]
     },
     "execution_count": 44,
     "metadata": {},
     "output_type": "execute_result"
    }
   ],
   "source": [
    "df['diagnosis']"
   ]
  },
  {
   "cell_type": "code",
   "execution_count": 4,
   "id": "c3bc9811",
   "metadata": {},
   "outputs": [],
   "source": [
    "import matplotlib as plt\n",
    "from matplotlib import pyplot"
   ]
  },
  {
   "cell_type": "markdown",
   "id": "37cecd18",
   "metadata": {},
   "source": [
    "# Question 1:"
   ]
  },
  {
   "cell_type": "code",
   "execution_count": 69,
   "id": "b49a1cf7",
   "metadata": {},
   "outputs": [
    {
     "data": {
      "text/plain": [
       "lung cancer                                       56\n",
       "lung cancer(adenocarcinoma)                       23\n",
       "tuberculoma                                       14\n",
       "granuloma                                          8\n",
       "lung cancer(bronchioloalveolar cell carcinoma)     7\n",
       "unknown                                            4\n",
       "metastasis of colon cancer                         4\n",
       "inflammatory mass                                  4\n",
       "pulmonary tuberculosis                             3\n",
       "lung abscess                                       2\n",
       "Cryptococcosis                                     2\n",
       "lung cancer(squamous cell carcinoma)               2\n",
       "Inflammatory mass                                  2\n",
       "pulmonary hematoma                                 2\n",
       "susp. inflammatory mass                            2\n",
       "hamartoma                                          2\n",
       "sclerosing hemangioma                              2\n",
       "lung cancer(large cell carcinoma)                  1\n",
       "susp. hamartoma                                    1\n",
       "metastasis of uterine cancer                       1\n",
       "organizing pneumonia                               1\n",
       "metastasis of ovarian cancer                       1\n",
       "metastatic lung cancer                             1\n",
       "lung canceror metastasis                           1\n",
       "pneumonia                                          1\n",
       "calcified granuloma                                1\n",
       "lung cancer(adenosquamous carcinoma)               1\n",
       "lung cancer(small cell carcinoma)                  1\n",
       "susp.tuberculoma                                   1\n",
       "organiging pneumonia                               1\n",
       "susp. sclerosing hemangioma                        1\n",
       "susp. lung metastasis                              1\n",
       "Name: diagnosis, dtype: int64"
      ]
     },
     "execution_count": 69,
     "metadata": {},
     "output_type": "execute_result"
    }
   ],
   "source": [
    "df['diagnosis'].value_counts()"
   ]
  },
  {
   "cell_type": "code",
   "execution_count": 53,
   "id": "659c3fcc",
   "metadata": {},
   "outputs": [
    {
     "data": {
      "text/plain": [
       "(array([27.,  2.,  1.,  0.,  1.,  0.,  0.,  0.,  0.,  1.]),\n",
       " array([ 1. ,  6.5, 12. , 17.5, 23. , 28.5, 34. , 39.5, 45. , 50.5, 56. ]),\n",
       " <BarContainer object of 10 artists>)"
      ]
     },
     "execution_count": 53,
     "metadata": {},
     "output_type": "execute_result"
    },
    {
     "data": {
      "image/png": "[encoded data removed]",
      "text/plain": [
       "<Figure size 432x288 with 1 Axes>"
      ]
     },
     "metadata": {
      "needs_background": "light"
     },
     "output_type": "display_data"
    }
   ],
   "source": [
    "plt.pyplot.hist(df['diagnosis'].value_counts(),color = 'pink', ec = 'purple')"
   ]
  },
  {
   "cell_type": "markdown",
   "id": "b0a1805e",
   "metadata": {},
   "source": [
    "# Question 2:"
   ]
  },
  {
   "cell_type": "code",
   "execution_count": 70,
   "id": "5d7bdd60",
   "metadata": {},
   "outputs": [
    {
     "data": {
      "text/plain": [
       "malignant     100\n",
       "non-nodule     93\n",
       "benign         54\n",
       "Name: state, dtype: int64"
      ]
     },
     "execution_count": 70,
     "metadata": {},
     "output_type": "execute_result"
    }
   ],
   "source": [
    "df['state'].value_counts()"
   ]
  },
  {
   "cell_type": "code",
   "execution_count": 71,
   "id": "3da9a28e",
   "metadata": {},
   "outputs": [
    {
     "data": {
      "text/plain": [
       "([<matplotlib.patches.Wedge at 0x1dcc0b2abb0>,\n",
       "  <matplotlib.patches.Wedge at 0x1dcc0aedc10>,\n",
       "  <matplotlib.patches.Wedge at 0x1dcc0aed760>],\n",
       " [Text(-1.051228217420429, 0.32391238769004665, 'malignant'),\n",
       "  Text(0.6627131763988918, -1.0004055406820234, 'benign'),\n",
       "  Text(0.6974946049230534, 0.8505887820229197, 'non-nodule')],\n",
       " [Text(-0.5733972095020522, 0.17667948419457088, '40.5%'),\n",
       "  Text(0.3865826862326868, -0.5835698987311803, '37.7%'),\n",
       "  Text(0.3804516026853018, 0.46395751746704705, '21.9%')])"
      ]
     },
     "execution_count": 71,
     "metadata": {},
     "output_type": "execute_result"
    },
    {
     "data": {
      "image/png": "[encoded data removed]",
      "text/plain": [
       "<Figure size 432x288 with 1 Axes>"
      ]
     },
     "metadata": {},
     "output_type": "display_data"
    }
   ],
   "source": [
    "plt.pyplot.pie(df['state'].value_counts(),explode=[0,0.1,0],\n",
    "               shadow=True,labels= ['malignant','benign','non-nodule'],autopct='%1.1f%%',\n",
    "              startangle=90)"
   ]
  },
  {
   "cell_type": "markdown",
   "id": "077fa3be",
   "metadata": {},
   "source": [
    "# Question 3:"
   ]
  },
  {
   "cell_type": "code",
   "execution_count": 81,
   "id": "33e44294",
   "metadata": {},
   "outputs": [
    {
     "data": {
      "text/plain": [
       "Female    128\n",
       "Male      119\n",
       "Name: gender, dtype: int64"
      ]
     },
     "execution_count": 81,
     "metadata": {},
     "output_type": "execute_result"
    }
   ],
   "source": [
    "df['gender'].value_counts()"
   ]
  },
  {
   "cell_type": "code",
   "execution_count": 82,
   "id": "509d4d74",
   "metadata": {},
   "outputs": [
    {
     "data": {
      "text/plain": [
       "([<matplotlib.patches.Wedge at 0x1dcc0c9eca0>,\n",
       "  <matplotlib.patches.Wedge at 0x1dcc0cea970>,\n",
       "  <matplotlib.patches.Wedge at 0x1dcc0cf6340>,\n",
       "  <matplotlib.patches.Wedge at 0x1dcc0cf6cd0>,\n",
       "  <matplotlib.patches.Wedge at 0x1dcc0d046a0>,\n",
       "  <matplotlib.patches.Wedge at 0x1dcc0d04fd0>,\n",
       "  <matplotlib.patches.Wedge at 0x1dcc0d12a00>,\n",
       "  <matplotlib.patches.Wedge at 0x1dcc0d1f3d0>,\n",
       "  <matplotlib.patches.Wedge at 0x1dcc0cadb20>,\n",
       "  <matplotlib.patches.Wedge at 0x1dcc0d2e700>,\n",
       "  <matplotlib.patches.Wedge at 0x1dcc0d3b0d0>,\n",
       "  <matplotlib.patches.Wedge at 0x1dcc0d3ba60>,\n",
       "  <matplotlib.patches.Wedge at 0x1dcc0d4a430>,\n",
       "  <matplotlib.patches.Wedge at 0x1dcc0d4adc0>,\n",
       "  <matplotlib.patches.Wedge at 0x1dcc0d57790>,\n",
       "  <matplotlib.patches.Wedge at 0x1dcc0d63160>,\n",
       "  <matplotlib.patches.Wedge at 0x1dcc0d63af0>,\n",
       "  <matplotlib.patches.Wedge at 0x1dcc0d714c0>,\n",
       "  <matplotlib.patches.Wedge at 0x1dcc0d71e50>,\n",
       "  <matplotlib.patches.Wedge at 0x1dcc0d7e820>,\n",
       "  <matplotlib.patches.Wedge at 0x1dcc0d8d1f0>,\n",
       "  <matplotlib.patches.Wedge at 0x1dcc0d8db80>,\n",
       "  <matplotlib.patches.Wedge at 0x1dcc0d9a550>,\n",
       "  <matplotlib.patches.Wedge at 0x1dcc0d9aee0>,\n",
       "  <matplotlib.patches.Wedge at 0x1dcc0da88b0>,\n",
       "  <matplotlib.patches.Wedge at 0x1dcc0ba9f40>,\n",
       "  <matplotlib.patches.Wedge at 0x1dcc0a1eac0>,\n",
       "  <matplotlib.patches.Wedge at 0x1dcc094a040>,\n",
       "  <matplotlib.patches.Wedge at 0x1dcc0905880>,\n",
       "  <matplotlib.patches.Wedge at 0x1dcc0905e50>,\n",
       "  <matplotlib.patches.Wedge at 0x1dcc0912640>,\n",
       "  <matplotlib.patches.Wedge at 0x1dcc0977d00>],\n",
       " [Text(-1.0005952104475537, 0.4569564802357176, ''),\n",
       "  Text(-0.41576332203954086, -1.0184011292445847, ''),\n",
       "  Text(0.39490300853154947, -1.026670158255674, ''),\n",
       "  Text(0.8012508099325273, -0.7536558495642884, ''),\n",
       "  Text(0.9910657786312884, -0.47727206332023897, ''),\n",
       "  Text(1.072420716700226, -0.24477296907986795, ''),\n",
       "  Text(1.0979406641581488, -0.06727776741214977, ''),\n",
       "  Text(1.0942827800907242, 0.1120053445015718, ''),\n",
       "  Text(1.067204537151858, 0.2665979667636061, ''),\n",
       "  Text(1.0345119759925845, 0.37387828437597, ''),\n",
       "  Text(1.0005951716751365, 0.45695656513546723, ''),\n",
       "  Text(0.9600195715891694, 0.5369938753521756, ''),\n",
       "  Text(0.9130551996582495, 0.6134575799328217, ''),\n",
       "  Text(0.8600145960284202, 0.6858388255399903, ''),\n",
       "  Text(0.801250737165097, 0.7536559269271282, ''),\n",
       "  Text(0.7371546868529328, 0.8164575724743783, ''),\n",
       "  Text(0.6681529937308563, 0.8738258275929445, ''),\n",
       "  Text(0.6134574877677966, 0.9130552615814794, ''),\n",
       "  Text(0.5757047349640217, 0.9373174799074248, ''),\n",
       "  Text(0.5369937784465039, 0.9600196257940496, ''),\n",
       "  Text(0.49738904878189527, 0.9811239137600518, ''),\n",
       "  Text(0.4569564641340403, 1.0005952178009425, ''),\n",
       "  Text(0.41576332054970383, 1.0184011298528122, ''),\n",
       "  Text(0.37387817995093553, 1.034512013732357, ''),\n",
       "  Text(0.3313707560205234, 1.0489010544633783, ''),\n",
       "  Text(0.2883117981704468, 1.0615443029076665, ''),\n",
       "  Text(0.24477297378645899, 1.0724207156259775, ''),\n",
       "  Text(0.20082674894480296, 1.0815121899027589, ''),\n",
       "  Text(0.1565462677995761, 1.0888035938763354, ''),\n",
       "  Text(0.1120052308415017, 1.094282791724398, ''),\n",
       "  Text(0.0672777722307416, 1.0979406638628832, ''),\n",
       "  Text(0.02243833640790017, 1.09977112212462, '')],\n",
       " [Text(-0.5457792056986657, 0.2492489892194823, '36.4%'),\n",
       "  Text(-0.2267799938397495, -0.5554915250425007, '14.9%'),\n",
       "  Text(0.21540164101720877, -0.560001904503095, '9.1%'),\n",
       "  Text(0.437045896326833, -0.41108500885324817, '5.2%'),\n",
       "  Text(0.5405813337988845, -0.26033021635649395, '4.5%'),\n",
       "  Text(0.5849567545637595, -0.13351252858901885, '2.6%'),\n",
       "  Text(0.5988767259044447, -0.03669696404299078, '2.6%'),\n",
       "  Text(0.5968815164131223, 0.06109382427358461, '2.6%'),\n",
       "  Text(0.5821115657191952, 0.14541707278014876, '1.9%'),\n",
       "  Text(0.5642792596323187, 0.20393360965961996, '1.3%'),\n",
       "  Text(0.5457791845500743, 0.24924903552843664, '1.3%'),\n",
       "  Text(0.5236470390486377, 0.2929057501920957, '1.3%'),\n",
       "  Text(0.4980301089044997, 0.33461322541790267, '1.3%'),\n",
       "  Text(0.46909887056095645, 0.3740939048399947, '1.3%'),\n",
       "  Text(0.4370458566355074, 0.41108505105116083, '1.3%'),\n",
       "  Text(0.4020843746470542, 0.4453404940769336, '1.3%'),\n",
       "  Text(0.364447087489558, 0.47663226959615146, '1.3%'),\n",
       "  Text(0.33461317514607086, 0.4980301426808069, '0.6%'),\n",
       "  Text(0.31402076452583, 0.5112640799495043, '0.6%'),\n",
       "  Text(0.29290569733445665, 0.5236470686149362, '0.6%'),\n",
       "  Text(0.2713031175173974, 0.5351584984145736, '0.6%'),\n",
       "  Text(0.24924898043674923, 0.5457792097096049, '0.6%'),\n",
       "  Text(0.22677999302711116, 0.5554915253742612, '0.6%'),\n",
       "  Text(0.20393355270051025, 0.5642792802176492, '0.6%'),\n",
       "  Text(0.18074768510210368, 0.5721278478891153, '0.6%'),\n",
       "  Text(0.15726098082024367, 0.5790241652223636, '0.6%'),\n",
       "  Text(0.13351253115625034, 0.5849567539778058, '0.6%'),\n",
       "  Text(0.1095418630608016, 0.5899157399469593, '0.6%'),\n",
       "  Text(0.08538887334522331, 0.593892869387092, '0.6%'),\n",
       "  Text(0.06109376227718273, 0.5968815227587625, '0.6%'),\n",
       "  Text(0.0366969666713136, 0.5988767257433908, '0.6%'),\n",
       "  Text(0.012239092586127365, 0.59987515752252, '0.6%')])"
      ]
     },
     "execution_count": 82,
     "metadata": {},
     "output_type": "execute_result"
    },
    {
     "data": {
      "image/png": "[encoded data removed]",
      "text/plain": [
       "<Figure size 432x288 with 1 Axes>"
      ]
     },
     "metadata": {},
     "output_type": "display_data"
    }
   ],
   "source": [
    "plt.pyplot.pie(df['gender'].value_counts(),\n",
    "               shadow=True,labels= ['Female','Male'],autopct='%1.1f%%',\n",
    "              startangle=90)\n",
    "plt.pyplot.pie(df['diagnosis'].value_counts(),\n",
    "               shadow=True,autopct='%1.1f%%',\n",
    "              startangle=90)"
   ]
  },
  {
   "cell_type": "code",
   "execution_count": null,
   "id": "54d7d2ac",
   "metadata": {},
   "outputs": [],
   "source": []
  },
  {
   "cell_type": "code",
   "execution_count": null,
   "id": "192f3541",
   "metadata": {},
   "outputs": [],
   "source": []
  },
  {
   "cell_type": "code",
   "execution_count": null,
   "id": "3c2fb708",
   "metadata": {},
   "outputs": [],
   "source": []
  }
 ],
 "metadata": {
  "kernelspec": {
   "display_name": "Python 3 (ipykernel)",
   "language": "python",
   "name": "python3"
  },
  "language_info": {
   "codemirror_mode": {
    "name": "ipython",
    "version": 3
   },
   "file_extension": ".py",
   "mimetype": "text/x-python",
   "name": "python",
   "nbconvert_exporter": "python",
   "pygments_lexer": "ipython3",
   "version": "3.9.7"
  }
 },
 "nbformat": 4,
 "nbformat_minor": 5
}
